{
 "cells": [
  {
   "cell_type": "code",
   "execution_count": 10,
   "id": "short-perry",
   "metadata": {},
   "outputs": [],
   "source": [
    "from selenium import webdriver\n",
    "from selenium.webdriver.support.ui import Select\n",
    "import pandas as pd\n",
    "from bs4 import BeautifulSoup"
   ]
  },
  {
   "cell_type": "code",
   "execution_count": 11,
   "id": "mysterious-balance",
   "metadata": {},
   "outputs": [
    {
     "name": "stdout",
     "output_type": "stream",
     "text": [
      "Requirement already satisfied: selenium in c:\\users\\dipali goyal\\appdata\\local\\programs\\python\\python38\\lib\\site-packages (3.141.0)\n",
      "Requirement already satisfied: urllib3 in c:\\users\\dipali goyal\\appdata\\local\\programs\\python\\python38\\lib\\site-packages (from selenium) (1.26.3)\n"
     ]
    },
    {
     "name": "stderr",
     "output_type": "stream",
     "text": [
      "WARNING: You are using pip version 20.2.4; however, version 21.0.1 is available.\n",
      "You should consider upgrading via the 'c:\\users\\dipali goyal\\appdata\\local\\programs\\python\\python38\\python.exe -m pip install --upgrade pip' command.\n"
     ]
    },
    {
     "name": "stdout",
     "output_type": "stream",
     "text": [
      "Requirement already satisfied: BeautifulSoup4 in c:\\users\\dipali goyal\\appdata\\local\\programs\\python\\python38\\lib\\site-packages (4.9.3)\n",
      "Requirement already satisfied: soupsieve>1.2; python_version >= \"3.0\" in c:\\users\\dipali goyal\\appdata\\local\\programs\\python\\python38\\lib\\site-packages (from BeautifulSoup4) (2.2)\n"
     ]
    },
    {
     "name": "stderr",
     "output_type": "stream",
     "text": [
      "WARNING: You are using pip version 20.2.4; however, version 21.0.1 is available.\n",
      "You should consider upgrading via the 'c:\\users\\dipali goyal\\appdata\\local\\programs\\python\\python38\\python.exe -m pip install --upgrade pip' command.\n"
     ]
    }
   ],
   "source": [
    "! pip install selenium\n",
    "! pip install BeautifulSoup4"
   ]
  },
  {
   "cell_type": "code",
   "execution_count": 12,
   "id": "infinite-montreal",
   "metadata": {},
   "outputs": [],
   "source": [
    "YY = [str(i) for i in range(2014,2021)]"
   ]
  },
  {
   "cell_type": "code",
   "execution_count": 13,
   "id": "floating-health",
   "metadata": {},
   "outputs": [],
   "source": [
    "MM = ['JAN','FEB','MAR','APR','MAY','JUN','JUL','AUG','SEP','OCT','NOV','DEC']"
   ]
  },
  {
   "cell_type": "code",
   "execution_count": 14,
   "id": "seeing-slovak",
   "metadata": {},
   "outputs": [],
   "source": [
    "#Reg=['ASEAN']"
   ]
  },
  {
   "cell_type": "code",
   "execution_count": 15,
   "id": "prospective-swaziland",
   "metadata": {},
   "outputs": [],
   "source": [
    "#Sor=['Country Name']"
   ]
  },
  {
   "cell_type": "code",
   "execution_count": 16,
   "id": "standing-deposit",
   "metadata": {},
   "outputs": [],
   "source": [
    "df = pd.DataFrame(columns = ['Country', 'Value', 'Date','%Growth'])"
   ]
  },
  {
   "cell_type": "code",
   "execution_count": 17,
   "id": "downtown-latvia",
   "metadata": {},
   "outputs": [],
   "source": [
    "driver=webdriver.Chrome('C:/Users/Dipali Goyal/Desktop/PES/4th Sem/Mini Project/ITDA Mini Project/chromedriver.exe')"
   ]
  },
  {
   "cell_type": "code",
   "execution_count": 18,
   "id": "yellow-notion",
   "metadata": {},
   "outputs": [
    {
     "name": "stdout",
     "output_type": "stream",
     "text": [
      "['S.No.', 'Region', 'Feb\\xa0 2013\\xa0(R)', 'Feb\\xa0 2014\\xa0(R)', '%Growth']\n",
      "['S.No.', 'Region', 'Feb\\xa0 2013\\xa0(R)', 'Feb\\xa0 2014\\xa0(R)', '%Growth']\n",
      "['S.No.', 'Region', 'Feb\\xa0 2013\\xa0(R)', 'Feb\\xa0 2014\\xa0(R)', '%Growth']\n",
      "['S.No.', 'Region', 'Feb\\xa0 2013\\xa0(R)', 'Feb\\xa0 2014\\xa0(R)', '%Growth']\n",
      "['S.No.', 'Region', 'Feb\\xa0 2013\\xa0(R)', 'Feb\\xa0 2014\\xa0(R)', '%Growth']\n",
      "['S.No.', 'Region', 'Feb\\xa0 2013\\xa0(R)', 'Feb\\xa0 2014\\xa0(R)', '%Growth']\n",
      "['S.No.', 'Region', 'Feb\\xa0 2013\\xa0(R)', 'Feb\\xa0 2014\\xa0(R)', '%Growth']\n",
      "['S.No.', 'Region', 'Feb\\xa0 2013\\xa0(R)', 'Feb\\xa0 2014\\xa0(R)', '%Growth']\n",
      "['S.No.', 'Region', 'Feb\\xa0 2013\\xa0(R)', 'Feb\\xa0 2014\\xa0(R)', '%Growth']\n",
      "['S.No.', 'Region', 'Feb\\xa0 2013\\xa0(R)', 'Feb\\xa0 2014\\xa0(R)', '%Growth']\n",
      "['S.No.', 'Region', 'Feb\\xa0 2013\\xa0(R)', 'Feb\\xa0 2014\\xa0(R)', '%Growth']\n",
      "['S.No.', 'Region', 'Feb\\xa0 2013\\xa0(R)', 'Feb\\xa0 2014\\xa0(R)', '%Growth']\n",
      "['S.No.', 'Region', 'Feb\\xa0 2014\\xa0(R)', 'Feb\\xa0 2015\\xa0(R)', '%Growth']\n",
      "['S.No.', 'Region', 'Feb\\xa0 2014\\xa0(R)', 'Feb\\xa0 2015\\xa0(R)', '%Growth']\n",
      "['S.No.', 'Region', 'Feb\\xa0 2014\\xa0(R)', 'Feb\\xa0 2015\\xa0(R)', '%Growth']\n",
      "['S.No.', 'Region', 'Feb\\xa0 2014\\xa0(R)', 'Feb\\xa0 2015\\xa0(R)', '%Growth']\n",
      "['S.No.', 'Region', 'Feb\\xa0 2014\\xa0(R)', 'Feb\\xa0 2015\\xa0(R)', '%Growth']\n",
      "['S.No.', 'Region', 'Feb\\xa0 2014\\xa0(R)', 'Feb\\xa0 2015\\xa0(R)', '%Growth']\n",
      "['S.No.', 'Region', 'Feb\\xa0 2014\\xa0(R)', 'Feb\\xa0 2015\\xa0(R)', '%Growth']\n",
      "['S.No.', 'Region', 'Feb\\xa0 2014\\xa0(R)', 'Feb\\xa0 2015\\xa0(R)', '%Growth']\n",
      "['S.No.', 'Region', 'Feb\\xa0 2014\\xa0(R)', 'Feb\\xa0 2015\\xa0(R)', '%Growth']\n",
      "['S.No.', 'Region', 'Feb\\xa0 2014\\xa0(R)', 'Feb\\xa0 2015\\xa0(R)', '%Growth']\n",
      "['S.No.', 'Region', 'Feb\\xa0 2014\\xa0(R)', 'Feb\\xa0 2015\\xa0(R)', '%Growth']\n",
      "['S.No.', 'Region', 'Feb\\xa0 2014\\xa0(R)', 'Feb\\xa0 2015\\xa0(R)', '%Growth']\n",
      "['S.No.', 'Region', 'Feb\\xa0 2015\\xa0(R)', 'Feb\\xa0 2016\\xa0(R)', '%Growth']\n",
      "['S.No.', 'Region', 'Feb\\xa0 2015\\xa0(R)', 'Feb\\xa0 2016\\xa0(R)', '%Growth']\n",
      "['S.No.', 'Region', 'Feb\\xa0 2015\\xa0(R)', 'Feb\\xa0 2016\\xa0(R)', '%Growth']\n",
      "['S.No.', 'Region', 'Feb\\xa0 2015\\xa0(R)', 'Feb\\xa0 2016\\xa0(R)', '%Growth']\n",
      "['S.No.', 'Region', 'Feb\\xa0 2015\\xa0(R)', 'Feb\\xa0 2016\\xa0(R)', '%Growth']\n",
      "['S.No.', 'Region', 'Feb\\xa0 2015\\xa0(R)', 'Feb\\xa0 2016\\xa0(R)', '%Growth']\n",
      "['S.No.', 'Region', 'Feb\\xa0 2015\\xa0(R)', 'Feb\\xa0 2016\\xa0(R)', '%Growth']\n",
      "['S.No.', 'Region', 'Feb\\xa0 2015\\xa0(R)', 'Feb\\xa0 2016\\xa0(R)', '%Growth']\n",
      "['S.No.', 'Region', 'Feb\\xa0 2015\\xa0(R)', 'Feb\\xa0 2016\\xa0(R)', '%Growth']\n",
      "['S.No.', 'Region', 'Feb\\xa0 2015\\xa0(R)', 'Feb\\xa0 2016\\xa0(R)', '%Growth']\n",
      "['S.No.', 'Region', 'Feb\\xa0 2015\\xa0(R)', 'Feb\\xa0 2016\\xa0(R)', '%Growth']\n",
      "['S.No.', 'Region', 'Feb\\xa0 2015\\xa0(R)', 'Feb\\xa0 2016\\xa0(R)', '%Growth']\n",
      "['S.No.', 'Region', 'Feb\\xa0 2016\\xa0(R)', 'Feb\\xa0 2017\\xa0(R)', '%Growth']\n",
      "['S.No.', 'Region', 'Feb\\xa0 2016\\xa0(R)', 'Feb\\xa0 2017\\xa0(R)', '%Growth']\n",
      "['S.No.', 'Region', 'Feb\\xa0 2016\\xa0(R)', 'Feb\\xa0 2017\\xa0(R)', '%Growth']\n",
      "['S.No.', 'Region', 'Feb\\xa0 2016\\xa0(R)', 'Feb\\xa0 2017\\xa0(R)', '%Growth']\n",
      "['S.No.', 'Region', 'Feb\\xa0 2016\\xa0(R)', 'Feb\\xa0 2017\\xa0(R)', '%Growth']\n",
      "['S.No.', 'Region', 'Feb\\xa0 2016\\xa0(R)', 'Feb\\xa0 2017\\xa0(R)', '%Growth']\n",
      "['S.No.', 'Region', 'Feb\\xa0 2016\\xa0(R)', 'Feb\\xa0 2017\\xa0(R)', '%Growth']\n",
      "['S.No.', 'Region', 'Feb\\xa0 2016\\xa0(R)', 'Feb\\xa0 2017\\xa0(R)', '%Growth']\n",
      "['S.No.', 'Region', 'Feb\\xa0 2016\\xa0(R)', 'Feb\\xa0 2017\\xa0(R)', '%Growth']\n",
      "['S.No.', 'Region', 'Feb\\xa0 2016\\xa0(R)', 'Feb\\xa0 2017\\xa0(R)', '%Growth']\n",
      "['S.No.', 'Region', 'Feb\\xa0 2016\\xa0(R)', 'Feb\\xa0 2017\\xa0(R)', '%Growth']\n",
      "['S.No.', 'Region', 'Feb\\xa0 2016\\xa0(R)', 'Feb\\xa0 2017\\xa0(R)', '%Growth']\n",
      "['S.No.', 'Region', 'Feb\\xa0 2017\\xa0(R)', 'Feb\\xa0 2018\\xa0(R)', '%Growth']\n",
      "['S.No.', 'Region', 'Feb\\xa0 2017\\xa0(R)', 'Feb\\xa0 2018\\xa0(R)', '%Growth']\n",
      "['S.No.', 'Region', 'Feb\\xa0 2017\\xa0(R)', 'Feb\\xa0 2018\\xa0(R)', '%Growth']\n",
      "['S.No.', 'Region', 'Feb\\xa0 2017\\xa0(R)', 'Feb\\xa0 2018\\xa0(R)', '%Growth']\n",
      "['S.No.', 'Region', 'Feb\\xa0 2017\\xa0(R)', 'Feb\\xa0 2018\\xa0(R)', '%Growth']\n",
      "['S.No.', 'Region', 'Feb\\xa0 2017\\xa0(R)', 'Feb\\xa0 2018\\xa0(R)', '%Growth']\n",
      "['S.No.', 'Region', 'Feb\\xa0 2017\\xa0(R)', 'Feb\\xa0 2018\\xa0(R)', '%Growth']\n",
      "['S.No.', 'Region', 'Feb\\xa0 2017\\xa0(R)', 'Feb\\xa0 2018\\xa0(R)', '%Growth']\n",
      "['S.No.', 'Region', 'Feb\\xa0 2017\\xa0(R)', 'Feb\\xa0 2018\\xa0(R)', '%Growth']\n",
      "['S.No.', 'Region', 'Feb\\xa0 2017\\xa0(R)', 'Feb\\xa0 2018\\xa0(R)', '%Growth']\n",
      "['S.No.', 'Region', 'Feb\\xa0 2017\\xa0(R)', 'Feb\\xa0 2018\\xa0(R)', '%Growth']\n",
      "['S.No.', 'Region', 'Feb\\xa0 2017\\xa0(R)', 'Feb\\xa0 2018\\xa0(R)', '%Growth']\n",
      "['S.No.', 'Region', 'Feb\\xa0 2018\\xa0(R)', 'Feb\\xa0 2019\\xa0(R)', '%Growth']\n",
      "['S.No.', 'Region', 'Feb\\xa0 2018\\xa0(R)', 'Feb\\xa0 2019\\xa0(R)', '%Growth']\n",
      "['S.No.', 'Region', 'Feb\\xa0 2018\\xa0(R)', 'Feb\\xa0 2019\\xa0(R)', '%Growth']\n",
      "['S.No.', 'Region', 'Feb\\xa0 2018\\xa0(R)', 'Feb\\xa0 2019\\xa0(R)', '%Growth']\n",
      "['S.No.', 'Region', 'Feb\\xa0 2018\\xa0(R)', 'Feb\\xa0 2019\\xa0(R)', '%Growth']\n",
      "['S.No.', 'Region', 'Feb\\xa0 2018\\xa0(R)', 'Feb\\xa0 2019\\xa0(R)', '%Growth']\n",
      "['S.No.', 'Region', 'Feb\\xa0 2018\\xa0(R)', 'Feb\\xa0 2019\\xa0(R)', '%Growth']\n",
      "['S.No.', 'Region', 'Feb\\xa0 2018\\xa0(R)', 'Feb\\xa0 2019\\xa0(R)', '%Growth']\n",
      "['S.No.', 'Region', 'Feb\\xa0 2018\\xa0(R)', 'Feb\\xa0 2019\\xa0(R)', '%Growth']\n",
      "['S.No.', 'Region', 'Feb\\xa0 2018\\xa0(R)', 'Feb\\xa0 2019\\xa0(R)', '%Growth']\n",
      "['S.No.', 'Region', 'Feb\\xa0 2018\\xa0(R)', 'Feb\\xa0 2019\\xa0(R)', '%Growth']\n",
      "['S.No.', 'Region', 'Feb\\xa0 2018\\xa0(R)', 'Feb\\xa0 2019\\xa0(R)', '%Growth']\n",
      "['S.No.', 'Region', 'Feb\\xa0 2019\\xa0(R)', 'Feb\\xa0 2020\\xa0(R)', '%Growth']\n",
      "['S.No.', 'Region', 'Feb\\xa0 2019\\xa0(R)', 'Feb\\xa0 2020\\xa0(R)', '%Growth']\n",
      "['S.No.', 'Region', 'Feb\\xa0 2019\\xa0(R)', 'Feb\\xa0 2020\\xa0(R)', '%Growth']\n",
      "['S.No.', 'Region', 'Feb\\xa0 2019\\xa0(R)', 'Feb\\xa0 2020\\xa0(R)', '%Growth']\n",
      "['S.No.', 'Region', 'Feb\\xa0 2019\\xa0(R)', 'Feb\\xa0 2020\\xa0(R)', '%Growth']\n",
      "['S.No.', 'Region', 'Feb\\xa0 2019\\xa0(R)', 'Feb\\xa0 2020\\xa0(R)', '%Growth']\n",
      "['S.No.', 'Region', 'Feb\\xa0 2019\\xa0(R)', 'Feb\\xa0 2020\\xa0(R)', '%Growth']\n",
      "['S.No.', 'Region', 'Feb\\xa0 2019\\xa0(R)', 'Feb\\xa0 2020\\xa0(R)', '%Growth']\n",
      "['S.No.', 'Region', 'Feb\\xa0 2019\\xa0(R)', 'Feb\\xa0 2020\\xa0(R)', '%Growth']\n",
      "['S.No.', 'Region', 'Feb\\xa0 2019\\xa0(R)', 'Feb\\xa0 2020\\xa0(R)', '%Growth']\n",
      "['S.No.', 'Region', 'Feb\\xa0 2019\\xa0(R)', 'Feb\\xa0 2020\\xa0(R)', '%Growth']\n",
      "['S.No.', 'Region', 'Feb\\xa0 2019\\xa0(R)', 'Feb\\xa0 2020\\xa0(R)', '%Growth']\n"
     ]
    }
   ],
   "source": [
    "for Year in YY:\n",
    "    \n",
    "    for Month in MM:\n",
    "                \n",
    "\n",
    "        driver.get(\"https://tradestat.commerce.gov.in/meidb/rgnq.asp?ie=i\")\n",
    "\n",
    "        financial_year = driver.find_elements_by_xpath('//*[@id=\"radioFY\"]')\n",
    "        financial_year[0].click()\n",
    "\n",
    "        month = driver.find_elements_by_xpath('//*[@id=\"select1\"]')\n",
    "        Select(month[0]).select_by_visible_text(Month)\n",
    "\n",
    "        year = driver.find_elements_by_xpath('//*[@id=\"select2\"]')\n",
    "        Select(year[0]).select_by_visible_text(Year)\n",
    "\n",
    "        region=driver.find_elements_by_xpath('//*[@id=\"select3\"]')\n",
    "        Select(region[0]).select_by_visible_text('ASEAN')\n",
    "\n",
    "\n",
    "        sort_on=driver.find_elements_by_xpath('//*[@id=\"select1\"]')\n",
    "        Select(sort_on[0]).select_by_value('2')\n",
    "\n",
    "        value = driver.find_elements_by_xpath('//*[@id=\"radiousd\"]')\n",
    "        value[0].click()\n",
    "        submit = driver.find_elements_by_xpath('//*[@id=\"button1\"]')\n",
    "        script = submit[0].click()\n",
    "\n",
    "        soup=BeautifulSoup(driver.page_source, 'html')\n",
    "        table = soup.find('table')\n",
    "        table_rows = table.find_all('tr')\n",
    "        col = []\n",
    "        res = []\n",
    "        for tr in table_rows[:-1]:\n",
    "            td = tr.find_all('td')\n",
    "            row = [tr.text.strip() for tr in td[:-3]]\n",
    "            if row:\n",
    "                res.append(row)\n",
    "            else:\n",
    "                th = tr.find_all('th')\n",
    "                col = [tr.text.strip() for tr in th[:-3] if tr.text.strip()]\n",
    "                print(col)\n",
    "        df_small = pd.DataFrame(res, columns = ['S.No.', 'Country', 'Value_prev_year', 'Value','%Growth'])\n",
    "        df_small['Date'] = pd.to_datetime('{}-{}'.format(Year, Month))\n",
    "        df_small.drop(['S.No.','Value_prev_year'],axis = 1,inplace = True)\n",
    "        df = df.append(df_small)"
   ]
  },
  {
   "cell_type": "code",
   "execution_count": 19,
   "id": "large-influence",
   "metadata": {},
   "outputs": [],
   "source": [
    "df.to_csv('Region-wise Import 2020.csv', header = True, index = False)"
   ]
  },
  {
   "cell_type": "code",
   "execution_count": null,
   "id": "visible-child",
   "metadata": {},
   "outputs": [],
   "source": []
  },
  {
   "cell_type": "code",
   "execution_count": null,
   "id": "controlled-knight",
   "metadata": {},
   "outputs": [],
   "source": []
  },
  {
   "cell_type": "code",
   "execution_count": null,
   "id": "suitable-airport",
   "metadata": {},
   "outputs": [],
   "source": []
  },
  {
   "cell_type": "code",
   "execution_count": null,
   "id": "tight-visibility",
   "metadata": {},
   "outputs": [],
   "source": []
  }
 ],
 "metadata": {
  "kernelspec": {
   "display_name": "Python 3",
   "language": "python",
   "name": "python3"
  },
  "language_info": {
   "codemirror_mode": {
    "name": "ipython",
    "version": 3
   },
   "file_extension": ".py",
   "mimetype": "text/x-python",
   "name": "python",
   "nbconvert_exporter": "python",
   "pygments_lexer": "ipython3",
   "version": "3.8.5"
  }
 },
 "nbformat": 4,
 "nbformat_minor": 5
}
