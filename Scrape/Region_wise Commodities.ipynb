{
 "cells": [
  {
   "cell_type": "code",
   "execution_count": 54,
   "id": "lesser-bahamas",
   "metadata": {},
   "outputs": [],
   "source": [
    "import pandas as pd\n",
    "import plotly.express as px\n"
   ]
  },
  {
   "cell_type": "code",
   "execution_count": 55,
   "id": "geological-study",
   "metadata": {},
   "outputs": [
    {
     "name": "stdout",
     "output_type": "stream",
     "text": [
      "      Growth\n",
      "0        NaN\n",
      "1        NaN\n",
      "2      26.79\n",
      "3     100.00\n",
      "4     -35.21\n",
      "...      ...\n",
      "8203  -39.20\n",
      "8204  -31.79\n",
      "8205  -78.87\n",
      "8206  689.36\n",
      "8207    7.69\n",
      "\n",
      "[8208 rows x 1 columns]\n",
      "Growth    float64\n",
      "dtype: object\n"
     ]
    }
   ],
   "source": [
    "icom=pd.read_csv(\"Region-wise All Commodities Import.csv\")\n",
    "#icom.info()\n",
    "#ir=icom['Value'].max().sort_values().head(10)\n",
    "#ir\n",
    "ir= pd.DataFrame()\n",
    "ir['Growth']=icom['Growth']\n",
    "ir['Growth'] = pd.to_numeric(ir['Growth'], errors='coerce')\n",
    "print(ir)\n",
    "print(ir.dtypes)"
   ]
  },
  {
   "cell_type": "code",
   "execution_count": 56,
   "id": "floppy-excuse",
   "metadata": {},
   "outputs": [
    {
     "name": "stdout",
     "output_type": "stream",
     "text": [
      "<class 'pandas.core.frame.DataFrame'>\n",
      "RangeIndex: 8208 entries, 0 to 8207\n",
      "Data columns (total 1 columns):\n",
      " #   Column  Non-Null Count  Dtype  \n",
      "---  ------  --------------  -----  \n",
      " 0   Growth  7560 non-null   float64\n",
      "dtypes: float64(1)\n",
      "memory usage: 64.2 KB\n"
     ]
    }
   ],
   "source": [
    "ir.info()\n"
   ]
  },
  {
   "cell_type": "code",
   "execution_count": 73,
   "id": "hispanic-adventure",
   "metadata": {},
   "outputs": [
    {
     "data": {
      "text/plain": [
       "array([844.22])"
      ]
     },
     "execution_count": 73,
     "metadata": {},
     "output_type": "execute_result"
    }
   ],
   "source": [
    "imr=ir['Growth'].nlargest(10).unique()\n",
    "imr"
   ]
  },
  {
   "cell_type": "code",
   "execution_count": 71,
   "id": "negative-austin",
   "metadata": {},
   "outputs": [
    {
     "data": {
      "text/plain": [
       "844.22"
      ]
     },
     "execution_count": 71,
     "metadata": {},
     "output_type": "execute_result"
    }
   ],
   "source": [
    "imr=ir['Growth'].max()\n",
    "imr"
   ]
  },
  {
   "cell_type": "code",
   "execution_count": 58,
   "id": "mental-album",
   "metadata": {},
   "outputs": [
    {
     "data": {
      "text/plain": [
       "HS Code                              99\n",
       "Commodity    ZINC AND ARTICLES THEREOF.\n",
       "Value                            536.37\n",
       "Date                         01-12-2020\n",
       "dtype: object"
      ]
     },
     "execution_count": 58,
     "metadata": {},
     "output_type": "execute_result"
    }
   ],
   "source": [
    "ecom=pd.read_csv(\"Region-wise All Commodities Export.csv\")\n",
    "ecom.max()"
   ]
  },
  {
   "cell_type": "code",
   "execution_count": null,
   "id": "educational-sussex",
   "metadata": {},
   "outputs": [],
   "source": []
  },
  {
   "cell_type": "code",
   "execution_count": null,
   "id": "monthly-potato",
   "metadata": {},
   "outputs": [],
   "source": [
    "imp_exp = pd.DataFrame()\n",
    "imp_exp['Import']=ir['Commodity']\n",
    "imp_exp['Export']=er['Commodity']\n",
    "px.bar(imp_exp,y=[\"Import\",\"Export\"])"
   ]
  },
  {
   "cell_type": "code",
   "execution_count": 19,
   "id": "individual-affairs",
   "metadata": {},
   "outputs": [],
   "source": [
    "imp_exp.to_csv('Region-wise_commodities.csv', header = True, index = False)"
   ]
  },
  {
   "cell_type": "code",
   "execution_count": null,
   "id": "indoor-virgin",
   "metadata": {},
   "outputs": [],
   "source": []
  }
 ],
 "metadata": {
  "kernelspec": {
   "display_name": "Python 3",
   "language": "python",
   "name": "python3"
  },
  "language_info": {
   "codemirror_mode": {
    "name": "ipython",
    "version": 3
   },
   "file_extension": ".py",
   "mimetype": "text/x-python",
   "name": "python",
   "nbconvert_exporter": "python",
   "pygments_lexer": "ipython3",
   "version": "3.8.5"
  }
 },
 "nbformat": 4,
 "nbformat_minor": 5
}
